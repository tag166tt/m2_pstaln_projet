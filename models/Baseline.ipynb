{
 "cells": [
  {
   "cell_type": "code",
   "execution_count": 62,
   "metadata": {
    "collapsed": true
   },
   "outputs": [],
   "source": [
    "import collections\n",
    "import random\n",
    "import numpy as np\n",
    "import matplotlib.pyplot as plt\n",
    "from sklearn.model_selection import train_test_split"
   ]
  },
  {
   "cell_type": "code",
   "execution_count": 63,
   "outputs": [],
   "source": [
    "data = open('../dimsum-data-1.5/dimsum16.train', 'r').readlines()\n",
    "data_test = open('../dimsum-data-1.5/dimsum16.test.blind', 'r', encoding='utf-8').readlines()"
   ],
   "metadata": {
    "collapsed": false,
    "pycharm": {
     "name": "#%%\n"
    }
   }
  },
  {
   "cell_type": "code",
   "execution_count": 64,
   "outputs": [],
   "source": [
    "def extract_data(data_in):\n",
    "\tX, y = [], []\n",
    "\tfor i, line in enumerate(data_in):\n",
    "\t\tif line != '\\n':\n",
    "\t\t\tnum, word, lem, pos, mwe, _, _, supersenses, _ = line[:-1].split('\\t')\n",
    "\t\t\tX.append([int(num), word, lem, pos])\n",
    "\t\t\ty.append(supersenses)\n",
    "\t\telse :\n",
    "\t\t\tX.append(\"\")\n",
    "\t\t\ty.append(\"\")\n",
    "\treturn X, y"
   ],
   "metadata": {
    "collapsed": false,
    "pycharm": {
     "name": "#%%\n"
    }
   }
  },
  {
   "cell_type": "code",
   "execution_count": 65,
   "outputs": [],
   "source": [
    "def write_data(X_test, y_test, filename):\n",
    "\t#xi_test format: num, word, lem, POS\n",
    "\twith open(filename, 'w', encoding='utf-8') as f:\n",
    "\t\tis_first = True\n",
    "\t\tfor xi_test, yi_test in zip(X_test, y_test):\n",
    "\t\t\tif (not is_first) and xi_test[0] == 1:\n",
    "\t\t\t\tf.write('\\n')\n",
    "\t\t\tf.write(f'{xi_test[0]}\\t{xi_test[1]}\\t-\\t{xi_test[3]}\\tO\\t0\\t\\t{yi_test}\\n')\n",
    "\t\t\tis_first = False\n",
    "\t\tf.write('\\n')"
   ],
   "metadata": {
    "collapsed": false,
    "pycharm": {
     "name": "#%%\n"
    }
   }
  },
  {
   "cell_type": "code",
   "execution_count": 66,
   "outputs": [],
   "source": [
    "def train_test_split_sentences(X,y,test_size=0.3, random_state=0, shuffle=True) :\n",
    "\tX_by_sentences = []\n",
    "\ty_by_sentences = []\n",
    "\tsentence = []\n",
    "\tsentence_tags = []\n",
    "\tfor line, tag in zip(X,y) :\n",
    "\t\tif line == \"\" :\n",
    "\t\t\tX_by_sentences.append(sentence)\n",
    "\t\t\ty_by_sentences.append(sentence_tags)\n",
    "\t\t\tsentence = []\n",
    "\t\t\tsentence_tags = []\n",
    "\t\telse :\n",
    "\t\t\tsentence.append(line)\n",
    "\t\t\tsentence_tags.append(tag)\n",
    "\n",
    "\tX, X_val, y, y_val = train_test_split(X_by_sentences, y_by_sentences, test_size=test_size, random_state=random_state, shuffle=shuffle)\n",
    "\n",
    "\tX = [y for x in X for y in x]\n",
    "\tX_val = [y for x in X_val for y in x]\n",
    "\ty = [y_1 for x in y for y_1 in x]\n",
    "\ty_val = [y for x in y_val for y in x]\n",
    "\n",
    "\treturn X, X_val, y, y_val"
   ],
   "metadata": {
    "collapsed": false,
    "pycharm": {
     "name": "#%%\n"
    }
   }
  },
  {
   "cell_type": "code",
   "execution_count": 67,
   "outputs": [],
   "source": [
    "X, y = extract_data(data)\n",
    "X, X_val, y, y_val = train_test_split_sentences(X, y)\n",
    "write_data(X_val, y_val, 'val.gold')"
   ],
   "metadata": {
    "collapsed": false,
    "pycharm": {
     "name": "#%%\n"
    }
   }
  },
  {
   "cell_type": "code",
   "execution_count": 68,
   "outputs": [],
   "source": [
    "def count_ss(y_in,plot = True):\n",
    "\tverbal_ss = [x for x in list(filter(None, y_in)) if x.startswith(\"v.\")]\n",
    "\tnominal_ss = [x for x in list(filter(None, y_in)) if x.startswith(\"n.\")]\n",
    "\n",
    "\tcounter_vss = collections.Counter(verbal_ss)\n",
    "\tcounter_nss = collections.Counter(nominal_ss)\n",
    "\tmost_common_vss = counter_vss.most_common(1)[0]\n",
    "\tmost_common_nss = counter_nss.most_common(1)[0]\n",
    "\tprint(most_common_vss)\n",
    "\tprint(most_common_nss)\n",
    "\tif plot :\n",
    "\t\tlabels, values = zip(*counter_vss.most_common())\n",
    "\t\tplt.xticks(rotation='vertical')\n",
    "\t\tplt.bar(labels, values, 1)\n",
    "\t\tplt.plot()\n",
    "\t\tplt.show()\n",
    "\n",
    "\t\tlabels, values = zip(*counter_nss.most_common())\n",
    "\t\tplt.xticks(rotation='vertical')\n",
    "\t\tplt.bar(labels, values, 1)\n",
    "\t\tplt.plot()\n",
    "\t\tplt.show()\n",
    "\treturn most_common_vss, most_common_nss"
   ],
   "metadata": {
    "collapsed": false,
    "pycharm": {
     "name": "#%%\n"
    }
   }
  },
  {
   "cell_type": "code",
   "execution_count": 69,
   "outputs": [
    {
     "name": "stdout",
     "output_type": "stream",
     "text": [
      "('v.stative', 2280)\n",
      "('n.person', 1373)\n"
     ]
    },
    {
     "data": {
      "text/plain": "<Figure size 432x288 with 1 Axes>",
      "image/png": "[encoded data removed]"
     },
     "metadata": {
      "needs_background": "light"
     },
     "output_type": "display_data"
    },
    {
     "data": {
      "text/plain": "<Figure size 432x288 with 1 Axes>",
      "image/png": "[encoded data removed]"
     },
     "metadata": {
      "needs_background": "light"
     },
     "output_type": "display_data"
    }
   ],
   "source": [
    "most_common_vss, most_common_nss = count_ss(y)"
   ],
   "metadata": {
    "collapsed": false,
    "pycharm": {
     "name": "#%%\n"
    }
   }
  },
  {
   "cell_type": "code",
   "execution_count": 70,
   "outputs": [
    {
     "name": "stdout",
     "output_type": "stream",
     "text": [
      "('v.stative', 1023)\n",
      "('n.person', 594)\n"
     ]
    },
    {
     "data": {
      "text/plain": "<Figure size 432x288 with 1 Axes>",
      "image/png": "[encoded data removed]"
     },
     "metadata": {
      "needs_background": "light"
     },
     "output_type": "display_data"
    },
    {
     "data": {
      "text/plain": "<Figure size 432x288 with 1 Axes>",
      "image/png": "[encoded data removed]"
     },
     "metadata": {
      "needs_background": "light"
     },
     "output_type": "display_data"
    }
   ],
   "source": [
    "most_common_vss, most_common_nss = count_ss(y_val)"
   ],
   "metadata": {
    "collapsed": false,
    "pycharm": {
     "name": "#%%\n"
    }
   }
  },
  {
   "cell_type": "code",
   "execution_count": 71,
   "outputs": [],
   "source": [
    "y_pred = []\n",
    "for x in X_val:\n",
    "\tif x[3] == \"NOUN\":\n",
    "\t\ty_pred.append(most_common_nss[0])\n",
    "\telif x[3] == \"VERB\":\n",
    "\t\ty_pred.append(most_common_vss[0])\n",
    "\telse:\n",
    "\t\ty_pred.append(\"\")"
   ],
   "metadata": {
    "collapsed": false,
    "pycharm": {
     "name": "#%%\n"
    }
   }
  },
  {
   "cell_type": "code",
   "execution_count": 72,
   "outputs": [],
   "source": [
    "write_data(X_val, y_pred, 'val_maj.pred')"
   ],
   "metadata": {
    "collapsed": false,
    "pycharm": {
     "name": "#%%\n"
    }
   }
  },
  {
   "cell_type": "code",
   "execution_count": 73,
   "outputs": [],
   "source": [
    "verbal_ss = list(set(x for x in list(filter(None, y)) if x.startswith(\"v.\")))\n",
    "nominal_ss = list(set(x for x in list(filter(None, y)) if x.startswith(\"n.\")))"
   ],
   "metadata": {
    "collapsed": false,
    "pycharm": {
     "name": "#%%\n"
    }
   }
  },
  {
   "cell_type": "code",
   "execution_count": 74,
   "outputs": [],
   "source": [
    "random.seed(52)\n",
    "y_pred_random = []\n",
    "for x in X_val:\n",
    "\tif x[3] == \"NOUN\":\n",
    "\t\ty_pred_random.append(random.choice(nominal_ss))\n",
    "\telif x[3] == \"VERB\":\n",
    "\t\ty_pred_random.append(random.choice(verbal_ss))\n",
    "\telse:\n",
    "\t\ty_pred_random.append(\"\")"
   ],
   "metadata": {
    "collapsed": false,
    "pycharm": {
     "name": "#%%\n"
    }
   }
  },
  {
   "cell_type": "code",
   "execution_count": 75,
   "outputs": [],
   "source": [
    "write_data(X_val, y_pred_random, 'val_rand.pred')"
   ],
   "metadata": {
    "collapsed": false,
    "pycharm": {
     "name": "#%%\n"
    }
   }
  },
  {
   "cell_type": "markdown",
   "source": [
    "Le code pour la moyenne entre scores est très (très (très)) moche et je pairai un jour pour tout le mal qu'il a causé"
   ],
   "metadata": {
    "collapsed": false,
    "pycharm": {
     "name": "#%% md\n"
    }
   }
  },
  {
   "cell_type": "code",
   "execution_count": 76,
   "outputs": [],
   "source": [
    "def mean_score_rand(files):\n",
    "\tl1 = []\n",
    "\tl2 = []\n",
    "\tl3 = []\n",
    "\tfor file in files :\n",
    "\t\twith open(file, 'r', encoding='utf-8') as fin:\n",
    "\t\t\tlines = fin.readlines()\n",
    "\t\t\tfor i in range(4) :\n",
    "\t\t\t\tline = lines[i].rstrip()\n",
    "\t\t\t\tls = line.split(' ')\n",
    "\t\t\t\tls = list(filter(None, ls))\n",
    "\t\t\t\tif i == 0:\n",
    "\t\t\t\t\tl0 = ls\n",
    "\t\t\t\tif i == 1 :\n",
    "\t\t\t\t\tls = [s[:-1] for s in ls]\n",
    "\t\t\t\t\tls = list(map(float, ls))\n",
    "\t\t\t\tif i > 1 :\n",
    "\t\t\t\t\tls = list(map(int, ls))\n",
    "\t\t\t\tif i == 1 :\n",
    "\t\t\t\t\tl1.append(ls)\n",
    "\t\t\t\telif i == 2 :\n",
    "\t\t\t\t\tl2.append(ls)\n",
    "\t\t\t\telif i == 3 :\n",
    "\t\t\t\t\tl3.append(ls)\n",
    "\n",
    "\tl1_mean = np.mean( np.array([l for l in l1]), axis=0 )\n",
    "\tl1_var = np.var( np.array([l for l in l1]), axis=0 )\n",
    "\n",
    "\tl2_mean = np.mean( np.array([l for l in l2]), axis=0 )\n",
    "\tl2_var = np.var( np.array([l for l in l2]), axis=0 )\n",
    "\n",
    "\tl3_mean = np.mean( np.array([l for l in l3]), axis=0 )\n",
    "\tl3_var = np.var( np.array([l for l in l3]), axis=0 )\n",
    "\n",
    "\tprint(l1_var)\n",
    "\t# print(l2_var)\n",
    "\t# print(l3_var)\n",
    "\tprint(\"   \".join(l0))\n",
    "\tprint(f\"{l1_mean[0]:.2f}\t{l1_mean[1]:.2f}\t{l1_mean[2]:.2f}\t{l1_mean[3]:.2f}\t\t    {l1_mean[4]:.2f}       {l1_mean[5]:.2f}\")\n",
    "\tprint(f\"{l2_mean[0]:.0f}\t{l2_mean[1]:.0f}\t\t{l2_mean[2]:.0f}\t\t\t\t\t\t{l2_mean[3]:.0f}        {l2_mean[4]:.0f}\")\n",
    "\tprint(f\"{l3_mean[0]:.0f}\t{l3_mean[1]:.0f}\t{l3_mean[2]:.0f}\t\t\t\t\t{l3_mean[3]:.0f}       {l3_mean[4]:.0f}\")"
   ],
   "metadata": {
    "collapsed": false,
    "pycharm": {
     "name": "#%%\n"
    }
   }
  },
  {
   "cell_type": "code",
   "execution_count": 77,
   "outputs": [
    {
     "ename": "FileNotFoundError",
     "evalue": "[Errno 2] No such file or directory: 'test_2.score'",
     "output_type": "error",
     "traceback": [
      "\u001B[1;31m---------------------------------------------------------------------------\u001B[0m",
      "\u001B[1;31mFileNotFoundError\u001B[0m                         Traceback (most recent call last)",
      "\u001B[1;32m~\\AppData\\Local\\Temp/ipykernel_19328/2496380122.py\u001B[0m in \u001B[0;36m<module>\u001B[1;34m\u001B[0m\n\u001B[1;32m----> 1\u001B[1;33m \u001B[0mmean_score_rand\u001B[0m\u001B[1;33m(\u001B[0m\u001B[1;33m[\u001B[0m\u001B[1;34m\"test.score\"\u001B[0m\u001B[1;33m,\u001B[0m\u001B[1;34m\"test_2.score\"\u001B[0m\u001B[1;33m,\u001B[0m\u001B[1;34m\"test_3.score\"\u001B[0m\u001B[1;33m,\u001B[0m\u001B[1;34m\"test_4.score\"\u001B[0m\u001B[1;33m,\u001B[0m\u001B[1;34m\"test_5.score\"\u001B[0m\u001B[1;33m]\u001B[0m\u001B[1;33m)\u001B[0m\u001B[1;33m\u001B[0m\u001B[1;33m\u001B[0m\u001B[0m\n\u001B[0m",
      "\u001B[1;32m~\\AppData\\Local\\Temp/ipykernel_19328/1696026861.py\u001B[0m in \u001B[0;36mmean_score_rand\u001B[1;34m(files)\u001B[0m\n\u001B[0;32m      4\u001B[0m         \u001B[0ml3\u001B[0m \u001B[1;33m=\u001B[0m \u001B[1;33m[\u001B[0m\u001B[1;33m]\u001B[0m\u001B[1;33m\u001B[0m\u001B[1;33m\u001B[0m\u001B[0m\n\u001B[0;32m      5\u001B[0m         \u001B[1;32mfor\u001B[0m \u001B[0mfile\u001B[0m \u001B[1;32min\u001B[0m \u001B[0mfiles\u001B[0m \u001B[1;33m:\u001B[0m\u001B[1;33m\u001B[0m\u001B[1;33m\u001B[0m\u001B[0m\n\u001B[1;32m----> 6\u001B[1;33m                 \u001B[1;32mwith\u001B[0m \u001B[0mopen\u001B[0m\u001B[1;33m(\u001B[0m\u001B[0mfile\u001B[0m\u001B[1;33m,\u001B[0m \u001B[1;34m'r'\u001B[0m\u001B[1;33m,\u001B[0m \u001B[0mencoding\u001B[0m\u001B[1;33m=\u001B[0m\u001B[1;34m'utf-8'\u001B[0m\u001B[1;33m)\u001B[0m \u001B[1;32mas\u001B[0m \u001B[0mfin\u001B[0m\u001B[1;33m:\u001B[0m\u001B[1;33m\u001B[0m\u001B[1;33m\u001B[0m\u001B[0m\n\u001B[0m\u001B[0;32m      7\u001B[0m                         \u001B[0mlines\u001B[0m \u001B[1;33m=\u001B[0m \u001B[0mfin\u001B[0m\u001B[1;33m.\u001B[0m\u001B[0mreadlines\u001B[0m\u001B[1;33m(\u001B[0m\u001B[1;33m)\u001B[0m\u001B[1;33m\u001B[0m\u001B[1;33m\u001B[0m\u001B[0m\n\u001B[0;32m      8\u001B[0m                         \u001B[1;32mfor\u001B[0m \u001B[0mi\u001B[0m \u001B[1;32min\u001B[0m \u001B[0mrange\u001B[0m\u001B[1;33m(\u001B[0m\u001B[1;36m4\u001B[0m\u001B[1;33m)\u001B[0m \u001B[1;33m:\u001B[0m\u001B[1;33m\u001B[0m\u001B[1;33m\u001B[0m\u001B[0m\n",
      "\u001B[1;31mFileNotFoundError\u001B[0m: [Errno 2] No such file or directory: 'test_2.score'"
     ]
    }
   ],
   "source": [
    "mean_score_rand([\"test.score\",\"test_2.score\",\"test_3.score\",\"test_4.score\",\"test_5.score\"])"
   ],
   "metadata": {
    "collapsed": false,
    "pycharm": {
     "name": "#%%\n"
    }
   }
  },
  {
   "cell_type": "code",
   "execution_count": null,
   "outputs": [],
   "source": [],
   "metadata": {
    "collapsed": false,
    "pycharm": {
     "name": "#%%\n"
    }
   }
  }
 ],
 "metadata": {
  "kernelspec": {
   "display_name": "Python 3",
   "language": "python",
   "name": "python3"
  },
  "language_info": {
   "codemirror_mode": {
    "name": "ipython",
    "version": 2
   },
   "file_extension": ".py",
   "mimetype": "text/x-python",
   "name": "python",
   "nbconvert_exporter": "python",
   "pygments_lexer": "ipython2",
   "version": "2.7.6"
  }
 },
 "nbformat": 4,
 "nbformat_minor": 0
}