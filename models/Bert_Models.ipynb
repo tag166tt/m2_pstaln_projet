{
 "cells": [
  {
   "cell_type": "code",
   "execution_count": 2,
   "outputs": [],
   "source": [
    "import os\n",
    "import regex as re\n",
    "from sklearn.model_selection import train_test_split\n",
    "def extract_full_sentences(file_path,test_size = None,shuffle = None, pos = False):\n",
    "    username = r'(?<=^|(?<=[^a-zA-Z0-9-_\\.]))@([A-Za-z]+[A-Za-z0-9-_]+)'\n",
    "    random_state = 42\n",
    "    X = []\n",
    "    y = []\n",
    "    temp_X = []\n",
    "    temp_y = []\n",
    "    with open(file_path, 'r', encoding=\"utf8\") as fin :\n",
    "        for l in fin :\n",
    "            l = l.rstrip().split(\"\\t\")\n",
    "            if l != [\"\"]:\n",
    "                if pos :\n",
    "                    temp_X.append(f\"{re.sub(username, 'USR', l[1].lower())}_{l[3]}\")\n",
    "                else :\n",
    "                    temp_X.append(f\"{re.sub(username, 'USR', l[1].lower())}\")\n",
    "                temp_y.append(l[7])\n",
    "            else :\n",
    "                X.append(temp_X)\n",
    "                temp_X = []\n",
    "                y.append(temp_y)\n",
    "                temp_y = []\n",
    "\n",
    "    X.append(temp_X)\n",
    "    y.append(temp_y)\n",
    "    if test_size is not None:\n",
    "        X, X_val, y, y_val = train_test_split(X, y, test_size=test_size, random_state=random_state, shuffle=shuffle)\n",
    "        return X, X_val, y, y_val\n",
    "\n",
    "    else :\n",
    "        return X,y"
   ],
   "metadata": {
    "collapsed": false,
    "pycharm": {
     "name": "#%%\n"
    }
   }
  },
  {
   "cell_type": "code",
   "execution_count": 3,
   "outputs": [],
   "source": [
    "def write_data(X_test, y_test, filename):\n",
    "\t#xi_test format: num, word, lem, POS\n",
    "\twith open(filename, 'w', encoding='utf-8') as f:\n",
    "\t\tis_first = True\n",
    "\t\tfor xi_test, yi_test in zip(X_test, y_test):\n",
    "\t\t\tif (not is_first) and xi_test[0] == 1:\n",
    "\t\t\t\tf.write('\\n')\n",
    "\t\t\tf.write(f'{xi_test[0]}\\t{xi_test[1]}\\t-\\t{xi_test[3]}\\tO\\t0\\t\\t{yi_test}\\n')\n",
    "\t\t\tis_first = False\n",
    "\t\tf.write('\\n')"
   ],
   "metadata": {
    "collapsed": false,
    "pycharm": {
     "name": "#%%\n"
    }
   }
  },
  {
   "cell_type": "code",
   "execution_count": 4,
   "outputs": [],
   "source": [
    "import torch\n",
    "\n",
    "class SstDataset(torch.utils.data.Dataset):\n",
    "    def __init__(self, encodings,labels):\n",
    "        self.encodings = encodings\n",
    "        self.labels = labels\n",
    "\n",
    "    def __len__(self):\n",
    "        return len(self.labels)\n",
    "\n",
    "    def __getitem__(self, idx):\n",
    "        item = {key: torch.tensor(val[idx]) for key, val in self.encodings.items()}\n",
    "        item['labels'] = torch.tensor(self.labels[idx])\n",
    "        return item"
   ],
   "metadata": {
    "collapsed": false,
    "pycharm": {
     "name": "#%%\n"
    }
   }
  },
  {
   "cell_type": "markdown",
   "source": [
    "https://github.com/soutsios/pos-tagger-bert/blob/master/pos_tagger_bert.ipynb"
   ],
   "metadata": {
    "collapsed": false,
    "pycharm": {
     "name": "#%% md\n"
    }
   }
  },
  {
   "cell_type": "markdown",
   "source": [
    "POS = True pour intégrer les POS dans l'entrainement et l'inférence du modèle"
   ],
   "metadata": {
    "collapsed": false,
    "pycharm": {
     "name": "#%% md\n"
    }
   }
  },
  {
   "cell_type": "code",
   "execution_count": 5,
   "outputs": [],
   "source": [
    "POS = True"
   ],
   "metadata": {
    "collapsed": false,
    "pycharm": {
     "name": "#%%\n"
    }
   }
  },
  {
   "cell_type": "code",
   "execution_count": 6,
   "outputs": [
    {
     "name": "stdout",
     "output_type": "stream",
     "text": [
      "['the_DET', 'night_NOUN', 'that_PRON', 'jam_PROPN', 'master_PROPN', \"jay's_PROPN\", 'hand_NOUN', 'slipped_VERB', '!_PUNCT', 'analysis_NOUN', 'by_ADP', 'cosmo_PROPN', 'baker_PROPN', ':_PUNCT', 'url_X']\n",
      "['', 'n.time', '', 'n.body', '', '', '', 'v.motion', '', 'n.act', '', 'n.person', '', '', '']\n"
     ]
    }
   ],
   "source": [
    "X_train, X_val, y_train, y_val = extract_full_sentences('../dimsum-data-1.5/dimsum16.train',0.15,True,pos=POS)\n",
    "print(X_train[0])\n",
    "print(y_train[0])"
   ],
   "metadata": {
    "collapsed": false,
    "pycharm": {
     "name": "#%%\n"
    }
   }
  },
  {
   "cell_type": "code",
   "execution_count": 7,
   "outputs": [
    {
     "name": "stdout",
     "output_type": "stream",
     "text": [
      "TOTAL TAGS:  42\n"
     ]
    }
   ],
   "source": [
    "tags = set([item for sublist in y_train for item in sublist])\n",
    "print('TOTAL TAGS: ', len(tags))"
   ],
   "metadata": {
    "collapsed": false,
    "pycharm": {
     "name": "#%%\n"
    }
   }
  },
  {
   "cell_type": "code",
   "execution_count": 8,
   "outputs": [],
   "source": [
    "tag2int = {}\n",
    "int2tag = {}\n",
    "\n",
    "for i, tag in enumerate(sorted(tags)):\n",
    "    tag2int[tag] = i\n",
    "    int2tag[i] = tag"
   ],
   "metadata": {
    "collapsed": false,
    "pycharm": {
     "name": "#%%\n"
    }
   }
  },
  {
   "cell_type": "code",
   "execution_count": 9,
   "outputs": [],
   "source": [
    "def map_tagging(y):\n",
    "    temp_y = []\n",
    "    for sentence in y :\n",
    "        temp_y.append([tag2int[tag] for tag in sentence])\n",
    "    return temp_y"
   ],
   "metadata": {
    "collapsed": false,
    "pycharm": {
     "name": "#%%\n"
    }
   }
  },
  {
   "cell_type": "code",
   "execution_count": 10,
   "outputs": [],
   "source": [
    "y_train = map_tagging(y_train)\n",
    "y_val = map_tagging(y_val)"
   ],
   "metadata": {
    "collapsed": false,
    "pycharm": {
     "name": "#%%\n"
    }
   }
  },
  {
   "cell_type": "code",
   "execution_count": 11,
   "outputs": [],
   "source": [
    "MAX_SEQUENCE_LENGTH = 70\n",
    "EPOCHS = 30"
   ],
   "metadata": {
    "collapsed": false,
    "pycharm": {
     "name": "#%%\n"
    }
   }
  },
  {
   "cell_type": "code",
   "execution_count": 12,
   "outputs": [
    {
     "data": {
      "text/plain": "<Figure size 432x288 with 1 Axes>",
      "image/png": "[encoded data removed]"
     },
     "metadata": {},
     "output_type": "display_data"
    }
   ],
   "source": [
    "import matplotlib.pyplot as plt\n",
    "plt.style.use(\"ggplot\")\n",
    "plt.hist([len(s) for s in X_train], bins=50)\n",
    "plt.show()"
   ],
   "metadata": {
    "collapsed": false,
    "pycharm": {
     "name": "#%%\n"
    }
   }
  },
  {
   "cell_type": "code",
   "execution_count": 13,
   "outputs": [],
   "source": [
    "from transformers import AutoTokenizer\n",
    "\n",
    "tokenizer = AutoTokenizer.from_pretrained(\"distilbert-base-uncased\")"
   ],
   "metadata": {
    "collapsed": false,
    "pycharm": {
     "name": "#%%\n"
    }
   }
  },
  {
   "cell_type": "code",
   "execution_count": 14,
   "outputs": [],
   "source": [
    "def tokenize_and_align_labels(X,y):\n",
    "    tokenized_inputs = tokenizer(X, padding=True, truncation=True, max_length = 35, is_split_into_words=True)\n",
    "\n",
    "    labels = []\n",
    "    for i, label in enumerate(y):\n",
    "        word_ids = tokenized_inputs.word_ids(batch_index=i)  # Map tokens to their respective word.\n",
    "        previous_word_idx = None\n",
    "        label_ids = []\n",
    "        for word_idx in word_ids:  # Set the special tokens to -100.\n",
    "            if word_idx is None:\n",
    "                label_ids.append(-100)\n",
    "            elif word_idx != previous_word_idx:  # Only label the first token of a given word.\n",
    "                label_ids.append(label[word_idx])\n",
    "\n",
    "        labels.append(label_ids)\n",
    "\n",
    "    return tokenized_inputs, labels"
   ],
   "metadata": {
    "collapsed": false,
    "pycharm": {
     "name": "#%%\n"
    }
   }
  },
  {
   "cell_type": "code",
   "execution_count": 15,
   "outputs": [],
   "source": [
    "tokenized_train, padded_label_train = tokenize_and_align_labels(X_train,y_train)\n",
    "tokenized_val, padded_label_val = tokenize_and_align_labels(X_val,y_val)"
   ],
   "metadata": {
    "collapsed": false,
    "pycharm": {
     "name": "#%%\n"
    }
   }
  },
  {
   "cell_type": "code",
   "execution_count": 16,
   "outputs": [
    {
     "name": "stdout",
     "output_type": "stream",
     "text": [
      "Encoding(num_tokens=35, attributes=[ids, type_ids, tokens, offsets, attention_mask, special_tokens_mask, overflowing])\n",
      "[-100, 0, 0, 0, 26, 26, 26, 0, 0, 0, 0, 5, 5, 5, 5, 0, 0, 0, 0, 0, 0, 0, 0, 0, 0, 0, 0, 0, 36, 36, 36, 0, 0, 0, -100]\n"
     ]
    }
   ],
   "source": [
    "print(tokenized_train[0])\n",
    "print(padded_label_train[0])"
   ],
   "metadata": {
    "collapsed": false,
    "pycharm": {
     "name": "#%%\n"
    }
   }
  },
  {
   "cell_type": "code",
   "execution_count": 17,
   "outputs": [],
   "source": [
    "train_dataset = SstDataset(tokenized_train,padded_label_train)\n",
    "val_dataset = SstDataset(tokenized_val,padded_label_val)"
   ],
   "metadata": {
    "collapsed": false,
    "pycharm": {
     "name": "#%%\n"
    }
   }
  },
  {
   "cell_type": "code",
   "execution_count": 18,
   "outputs": [],
   "source": [
    "from transformers import DataCollatorForTokenClassification\n",
    "\n",
    "data_collator = DataCollatorForTokenClassification(tokenizer)"
   ],
   "metadata": {
    "collapsed": false,
    "pycharm": {
     "name": "#%%\n"
    }
   }
  },
  {
   "cell_type": "code",
   "execution_count": 19,
   "outputs": [
    {
     "name": "stderr",
     "output_type": "stream",
     "text": [
      "Some weights of the model checkpoint at distilbert-base-uncased were not used when initializing DistilBertForTokenClassification: ['vocab_layer_norm.weight', 'vocab_transform.bias', 'vocab_layer_norm.bias', 'vocab_projector.weight', 'vocab_transform.weight', 'vocab_projector.bias']\n",
      "- This IS expected if you are initializing DistilBertForTokenClassification from the checkpoint of a model trained on another task or with another architecture (e.g. initializing a BertForSequenceClassification model from a BertForPreTraining model).\n",
      "- This IS NOT expected if you are initializing DistilBertForTokenClassification from the checkpoint of a model that you expect to be exactly identical (initializing a BertForSequenceClassification model from a BertForSequenceClassification model).\n",
      "Some weights of DistilBertForTokenClassification were not initialized from the model checkpoint at distilbert-base-uncased and are newly initialized: ['classifier.bias', 'classifier.weight']\n",
      "You should probably TRAIN this model on a down-stream task to be able to use it for predictions and inference.\n"
     ]
    }
   ],
   "source": [
    "from transformers import AutoModelForTokenClassification, TrainingArguments, Trainer\n",
    "\n",
    "model = AutoModelForTokenClassification.from_pretrained(\"distilbert-base-uncased\", num_labels=len(tags))"
   ],
   "metadata": {
    "collapsed": false,
    "pycharm": {
     "name": "#%%\n"
    }
   }
  },
  {
   "cell_type": "code",
   "execution_count": 20,
   "outputs": [],
   "source": [
    "training_args = TrainingArguments(\n",
    "    output_dir=\"./results_12epochs_batch64_pos\",\n",
    "    evaluation_strategy=\"epoch\",\n",
    "    learning_rate=2e-5,\n",
    "    per_device_train_batch_size=64,\n",
    "    per_device_eval_batch_size=64,\n",
    "    num_train_epochs=12,\n",
    "    weight_decay=0.01,\n",
    ")"
   ],
   "metadata": {
    "collapsed": false,
    "pycharm": {
     "name": "#%%\n"
    }
   }
  },
  {
   "cell_type": "code",
   "execution_count": 21,
   "outputs": [],
   "source": [
    "trainer = Trainer(\n",
    "    model=model,\n",
    "    args=training_args,\n",
    "    train_dataset=train_dataset,\n",
    "    eval_dataset=val_dataset,\n",
    "    data_collator=data_collator,\n",
    "    tokenizer=tokenizer,\n",
    ")"
   ],
   "metadata": {
    "collapsed": false,
    "pycharm": {
     "name": "#%%\n"
    }
   }
  },
  {
   "cell_type": "code",
   "execution_count": 22,
   "outputs": [
    {
     "name": "stderr",
     "output_type": "stream",
     "text": [
      "***** Running training *****\n",
      "  Num examples = 4085\n",
      "  Num Epochs = 12\n",
      "  Instantaneous batch size per device = 64\n",
      "  Total train batch size (w. parallel, distributed & accumulation) = 64\n",
      "  Gradient Accumulation steps = 1\n",
      "  Total optimization steps = 768\n",
      "C:\\Users\\eliea\\anaconda3\\envs\\dataoutai\\lib\\site-packages\\transformers\\data\\data_collator.py:317: UserWarning: To copy construct from a tensor, it is recommended to use sourceTensor.clone().detach() or sourceTensor.clone().detach().requires_grad_(True), rather than torch.tensor(sourceTensor).\n",
      "  sequence_length = torch.tensor(batch[\"input_ids\"]).shape[1]\n",
      "C:\\Users\\eliea\\anaconda3\\envs\\dataoutai\\lib\\site-packages\\transformers\\data\\data_collator.py:328: UserWarning: To copy construct from a tensor, it is recommended to use sourceTensor.clone().detach() or sourceTensor.clone().detach().requires_grad_(True), rather than torch.tensor(sourceTensor).\n",
      "  batch = {k: torch.tensor(v, dtype=torch.int64) for k, v in batch.items()}\n"
     ]
    },
    {
     "data": {
      "text/plain": "<IPython.core.display.HTML object>",
      "text/html": "\n    <div>\n      \n      <progress value='2' max='768' style='width:300px; height:20px; vertical-align: middle;'></progress>\n      [  2/768 : < :, Epoch 0.02/12]\n    </div>\n    <table border=\"1\" class=\"dataframe\">\n  <thead>\n    <tr style=\"text-align: left;\">\n      <th>Epoch</th>\n      <th>Training Loss</th>\n      <th>Validation Loss</th>\n    </tr>\n  </thead>\n  <tbody>\n  </tbody>\n</table><p>"
     },
     "metadata": {},
     "output_type": "display_data"
    },
    {
     "name": "stderr",
     "output_type": "stream",
     "text": [
      "***** Running Evaluation *****\n",
      "  Num examples = 721\n",
      "  Batch size = 64\n",
      "***** Running Evaluation *****\n",
      "  Num examples = 721\n",
      "  Batch size = 64\n",
      "***** Running Evaluation *****\n",
      "  Num examples = 721\n",
      "  Batch size = 64\n",
      "***** Running Evaluation *****\n",
      "  Num examples = 721\n",
      "  Batch size = 64\n",
      "***** Running Evaluation *****\n",
      "  Num examples = 721\n",
      "  Batch size = 64\n",
      "***** Running Evaluation *****\n",
      "  Num examples = 721\n",
      "  Batch size = 64\n",
      "***** Running Evaluation *****\n",
      "  Num examples = 721\n",
      "  Batch size = 64\n",
      "Saving model checkpoint to ./results_12epochs_batch64_pos\\checkpoint-500\n",
      "Configuration saved in ./results_12epochs_batch64_pos\\checkpoint-500\\config.json\n",
      "Model weights saved in ./results_12epochs_batch64_pos\\checkpoint-500\\pytorch_model.bin\n",
      "tokenizer config file saved in ./results_12epochs_batch64_pos\\checkpoint-500\\tokenizer_config.json\n",
      "Special tokens file saved in ./results_12epochs_batch64_pos\\checkpoint-500\\special_tokens_map.json\n",
      "C:\\Users\\eliea\\anaconda3\\envs\\dataoutai\\lib\\site-packages\\transformers\\data\\data_collator.py:317: UserWarning: To copy construct from a tensor, it is recommended to use sourceTensor.clone().detach() or sourceTensor.clone().detach().requires_grad_(True), rather than torch.tensor(sourceTensor).\n",
      "  sequence_length = torch.tensor(batch[\"input_ids\"]).shape[1]\n",
      "C:\\Users\\eliea\\anaconda3\\envs\\dataoutai\\lib\\site-packages\\transformers\\data\\data_collator.py:328: UserWarning: To copy construct from a tensor, it is recommended to use sourceTensor.clone().detach() or sourceTensor.clone().detach().requires_grad_(True), rather than torch.tensor(sourceTensor).\n",
      "  batch = {k: torch.tensor(v, dtype=torch.int64) for k, v in batch.items()}\n",
      "***** Running Evaluation *****\n",
      "  Num examples = 721\n",
      "  Batch size = 64\n",
      "***** Running Evaluation *****\n",
      "  Num examples = 721\n",
      "  Batch size = 64\n",
      "***** Running Evaluation *****\n",
      "  Num examples = 721\n",
      "  Batch size = 64\n",
      "***** Running Evaluation *****\n",
      "  Num examples = 721\n",
      "  Batch size = 64\n",
      "***** Running Evaluation *****\n",
      "  Num examples = 721\n",
      "  Batch size = 64\n",
      "\n",
      "\n",
      "Training completed. Do not forget to share your model on huggingface.co/models =)\n",
      "\n",
      "\n"
     ]
    },
    {
     "data": {
      "text/plain": "TrainOutput(global_step=768, training_loss=0.5181901355584463, metrics={'train_runtime': 246.0998, 'train_samples_per_second': 199.187, 'train_steps_per_second': 3.121, 'total_flos': 438132125617200.0, 'train_loss': 0.5181901355584463, 'epoch': 12.0})"
     },
     "execution_count": 22,
     "metadata": {},
     "output_type": "execute_result"
    }
   ],
   "source": [
    "trainer.train()"
   ],
   "metadata": {
    "collapsed": false,
    "pycharm": {
     "name": "#%%\n"
    }
   }
  },
  {
   "cell_type": "markdown",
   "source": [
    "Default batch_size was 16 for both eval and train\n",
    "\n",
    "For 12 epochs :\n",
    "    TrainOutput(global_step=3072, training_loss=0.3117038222650687, metrics={'train_runtime': 647.8535, 'train_samples_per_second': 75.665, 'train_steps_per_second': 4.742, 'total_flos': 1139143526604720.0, 'train_loss': 0.3117038222650687, 'epoch': 12.0})\n",
    "\n",
    "for 12 epochs with batch_size=64 :\n",
    "    TrainOutput(global_step=768, training_loss=0.5313298602898916, metrics={'train_runtime': 554.7323, 'train_samples_per_second': 88.367, 'train_steps_per_second': 1.384, 'total_flos': 1139143526604720.0, 'train_loss': 0.5313298602898916, 'epoch': 12.0})\n",
    "\n",
    "for 12 epochs with batch_size=64 and POS :\n",
    "    TrainOutput(global_step=768, training_loss=0.5026372075080872, metrics={'train_runtime': 243.8739, 'train_samples_per_second': 201.006, 'train_steps_per_second': 3.149, 'total_flos': 438132125617200.0, 'train_loss': 0.5026372075080872, 'epoch': 12.0})"
   ],
   "metadata": {
    "collapsed": false,
    "pycharm": {
     "name": "#%% md\n"
    }
   }
  },
  {
   "cell_type": "code",
   "execution_count": 23,
   "outputs": [],
   "source": [
    "from transformers import pipeline\n",
    "\n",
    "nerpipeline = pipeline('ner', model=model, tokenizer=tokenizer, device = 0, aggregation_strategy ='simple')\n",
    "text = \"usr i hear enough talking, just turn round keep walking ahaha\"\n",
    "pred = nerpipeline(text)"
   ],
   "metadata": {
    "collapsed": false,
    "pycharm": {
     "name": "#%%\n"
    }
   }
  },
  {
   "cell_type": "code",
   "execution_count": 24,
   "outputs": [
    {
     "name": "stdout",
     "output_type": "stream",
     "text": [
      "[{'entity_group': 'LABEL_0', 'score': 0.7907538, 'word': 'usr i hear enough talking, just turn round keep walking ahaha', 'start': 0, 'end': 61}]\n"
     ]
    }
   ],
   "source": [
    "print(pred)"
   ],
   "metadata": {
    "collapsed": false,
    "pycharm": {
     "name": "#%%\n"
    }
   }
  },
  {
   "cell_type": "code",
   "execution_count": 25,
   "outputs": [
    {
     "name": "stdout",
     "output_type": "stream",
     "text": [
      "usr i hear enough talking, just turn round keep walking ahaha\n"
     ]
    }
   ],
   "source": [
    "for token in pred :\n",
    "    word = token['word']\n",
    "    pred_sst = int2tag[int(token['entity_group'].split(\"_\")[1])]\n",
    "    print(f\"{word}\", end =\"\")\n",
    "    if pred_sst != \"\":\n",
    "        print(f\" : {pred_sst}\")\n",
    "    else :\n",
    "        print()"
   ],
   "metadata": {
    "collapsed": false,
    "pycharm": {
     "name": "#%%\n"
    }
   }
  },
  {
   "cell_type": "code",
   "execution_count": 26,
   "outputs": [],
   "source": [
    "def decode_pred(X_test,pred):\n",
    "    y = []\n",
    "    i = 0\n",
    "    for token in pred :\n",
    "        # print(X_test[i])\n",
    "        # print(token)\n",
    "        pred_sst = int2tag[int(token['entity_group'].split(\"_\")[1])]\n",
    "\n",
    "        while i < len(X_test) and X_test[i].lower() in token['word'] :\n",
    "            y.append(pred_sst)\n",
    "            i+=1\n",
    "\n",
    "    return y"
   ],
   "metadata": {
    "collapsed": false,
    "pycharm": {
     "name": "#%%\n"
    }
   }
  },
  {
   "cell_type": "code",
   "execution_count": 27,
   "outputs": [
    {
     "name": "stderr",
     "output_type": "stream",
     "text": [
      "C:\\Users\\eliea\\anaconda3\\envs\\dataoutai\\lib\\site-packages\\transformers\\pipelines\\base.py:1077: UserWarning: You seem to be using the pipelines sequentially on GPU. In order to maximize efficiency please use a dataset\n",
      "  UserWarning,\n"
     ]
    }
   ],
   "source": [
    "X_test, y_test = extract_full_sentences('../dimsum-data-1.5/dimsum16.test',pos=POS)\n",
    "if POS :\n",
    "    X_allign, _ = extract_full_sentences('../dimsum-data-1.5/dimsum16.test')\n",
    "else :\n",
    "    X_allign = X_test\n",
    "\n",
    "y_pred = []\n",
    "for sentence,sentence_wo_pos in zip(X_test,X_allign) :\n",
    "    # print(sentence)\n",
    "    pred = decode_pred(sentence_wo_pos,nerpipeline(' '.join(sentence)))\n",
    "    # print(' '.join(sentence))\n",
    "    y_pred.append(pred)\n",
    "    # print(pred)"
   ],
   "metadata": {
    "collapsed": false,
    "pycharm": {
     "name": "#%%\n"
    }
   }
  },
  {
   "cell_type": "code",
   "execution_count": 28,
   "outputs": [
    {
     "name": "stdout",
     "output_type": "stream",
     "text": [
      "['USR_X', 'i_PRON', 'hear_VERB', 'enough_ADV', 'talking_VERB', ',_PUNCT', 'just_ADV', 'turn_VERB', 'round_ADV', 'keep_VERB', 'walking_VERB', 'haha_INTJ', 'in_ADP', 'that_DET', 'part_NOUN']\n",
      "{'input_ids': [[101, 2149, 2099, 1035, 1060, 102], [101, 1045, 1035, 4013, 2078, 102], [101, 2963, 1035, 12034, 102], [101, 2438, 1035, 4748, 2615, 102], [101, 3331, 1035, 12034, 102], [101, 1010, 1035, 26136, 6593, 102], [101, 2074, 1035, 4748, 2615, 102], [101, 2735, 1035, 12034, 102], [101, 2461, 1035, 4748, 2615, 102], [101, 2562, 1035, 12034, 102], [101, 3788, 1035, 12034, 102], [101, 5292, 3270, 1035, 20014, 3501, 102], [101, 1999, 1035, 4748, 2361, 102], [101, 2008, 1035, 20010, 102], [101, 2112, 1035, 15156, 102]], 'attention_mask': [[1, 1, 1, 1, 1, 1], [1, 1, 1, 1, 1, 1], [1, 1, 1, 1, 1], [1, 1, 1, 1, 1, 1], [1, 1, 1, 1, 1], [1, 1, 1, 1, 1, 1], [1, 1, 1, 1, 1, 1], [1, 1, 1, 1, 1], [1, 1, 1, 1, 1, 1], [1, 1, 1, 1, 1], [1, 1, 1, 1, 1], [1, 1, 1, 1, 1, 1, 1], [1, 1, 1, 1, 1, 1], [1, 1, 1, 1, 1], [1, 1, 1, 1, 1]]}\n",
      "['', '', 'v.communication', '', 'v.communication', '', '', 'v.motion', '', 'v.stative', 'v.motion', '', '', '', 'n.quantity']\n"
     ]
    }
   ],
   "source": [
    "print(X_test[0])\n",
    "print(tokenizer(X_test[0]))\n",
    "print(y_pred[0])"
   ],
   "metadata": {
    "collapsed": false,
    "pycharm": {
     "name": "#%%\n"
    }
   }
  },
  {
   "cell_type": "code",
   "execution_count": 29,
   "outputs": [
    {
     "name": "stdout",
     "output_type": "stream",
     "text": [
      "USR_X\n",
      "i_PRON\n",
      "hear_VERB |pred :v.communication|gold :v.perception \n",
      "enough_ADV\n",
      "talking_VERB |pred :v.communication|gold :v.communication \n",
      ",_PUNCT\n",
      "just_ADV\n",
      "turn_VERB |pred :v.motion|gold :v.motion \n",
      "round_ADV\n",
      "keep_VERB |pred :v.stative|gold :v.stative \n",
      "walking_VERB |pred :v.motion|gold :v.motion \n",
      "haha_INTJ\n",
      "in_ADP\n",
      "that_DET\n",
      "part_NOUN |pred :n.quantity|gold :n.location \n"
     ]
    }
   ],
   "source": [
    "for sentence, pred, gold in zip(X_test,y_pred,y_test):\n",
    "    for word, pred_tag, gold_tag in zip(sentence, pred, gold):\n",
    "        print(f\"{word}\", end =\"\")\n",
    "        if pred_tag != \"\" or gold_tag != \"\" :\n",
    "            print(f\" | pred :{pred_tag}| gold :{gold_tag} \")\n",
    "        else :\n",
    "            print()\n",
    "    break"
   ],
   "metadata": {
    "collapsed": false,
    "pycharm": {
     "name": "#%%\n"
    }
   }
  },
  {
   "cell_type": "code",
   "execution_count": 30,
   "outputs": [
    {
     "name": "stdout",
     "output_type": "stream",
     "text": [
      "['fuck_VERB', '\\ue139_PRON']\n"
     ]
    }
   ],
   "source": [
    "print(X_test[133])"
   ],
   "metadata": {
    "collapsed": false,
    "pycharm": {
     "name": "#%%\n"
    }
   }
  },
  {
   "cell_type": "markdown",
   "source": [
    "Un cas un peu bizarre à cause d'un caractére spécial"
   ],
   "metadata": {
    "collapsed": false,
    "pycharm": {
     "name": "#%% md\n"
    }
   }
  },
  {
   "cell_type": "code",
   "source": [
    "nerpipeline(' '.join(X_test[133]))"
   ],
   "metadata": {
    "collapsed": false,
    "pycharm": {
     "name": "#%%\n"
    }
   },
   "execution_count": 31,
   "outputs": [
    {
     "data": {
      "text/plain": "[{'entity_group': 'LABEL_0',\n  'score': 0.59910697,\n  'word': 'fuck _ verb _ pron',\n  'start': 0,\n  'end': 16}]"
     },
     "execution_count": 31,
     "metadata": {},
     "output_type": "execute_result"
    }
   ]
  },
  {
   "cell_type": "code",
   "execution_count": 32,
   "outputs": [
    {
     "name": "stdout",
     "output_type": "stream",
     "text": [
      "['']\n"
     ]
    }
   ],
   "source": [
    "print(y_pred[133])"
   ],
   "metadata": {
    "collapsed": false,
    "pycharm": {
     "name": "#%%\n"
    }
   }
  },
  {
   "cell_type": "code",
   "execution_count": 33,
   "outputs": [
    {
     "name": "stdout",
     "output_type": "stream",
     "text": [
      "1000\n",
      "1000\n"
     ]
    }
   ],
   "source": [
    "print(len(X_test))\n",
    "print(len(y_pred))"
   ],
   "metadata": {
    "collapsed": false,
    "pycharm": {
     "name": "#%%\n"
    }
   }
  },
  {
   "cell_type": "code",
   "execution_count": 34,
   "outputs": [],
   "source": [
    "def write_pred(gold_file,y_pred,post  = \"\"):\n",
    "    i = 0\n",
    "    j = 0\n",
    "    with open(gold_file, 'r', encoding='utf-8') as f_gold :\n",
    "        with open(f\"{'.'.join(gold_file.split('.')[:-1])}.{post}.pred\", 'w', encoding='utf-8') as f_pred :\n",
    "            for line in f_gold:\n",
    "                line = line.rstrip().split(\"\\t\")\n",
    "                if line != [\"\"] :\n",
    "                    # print(f\"i : {i}\")\n",
    "                    # print(f\"j : {j}\")\n",
    "                    # print(y_pred[i])\n",
    "                    if j >= len(y_pred[i]): #Pour les cas ??????????????\n",
    "                        pred = \"\"\n",
    "                    else :\n",
    "                        pred = y_pred[i][j]\n",
    "\n",
    "                    line[7] = pred\n",
    "                    line[4] = \"O\" #Car on n'a pas prédit les MWEs\n",
    "                    line[5] = \"0\" #Car on n'a pas prédit les MWEs\n",
    "                    j+=1\n",
    "                if line == [\"\"] :\n",
    "                    i+=1\n",
    "                    j=0\n",
    "                f_pred.write('\\t'.join(line))\n",
    "                f_pred.write('\\n')"
   ],
   "metadata": {
    "collapsed": false,
    "pycharm": {
     "name": "#%%\n"
    }
   }
  },
  {
   "cell_type": "code",
   "execution_count": 35,
   "outputs": [],
   "source": [
    "write_pred(\"../dimsum-data-1.5/dimsum16.test\",y_pred,\"12epochs_batch_size64_pos\")"
   ],
   "metadata": {
    "collapsed": false,
    "pycharm": {
     "name": "#%%\n"
    }
   }
  },
  {
   "cell_type": "code",
   "execution_count": 35,
   "outputs": [],
   "source": [],
   "metadata": {
    "collapsed": false,
    "pycharm": {
     "name": "#%%\n"
    }
   }
  }
 ],
 "metadata": {
  "kernelspec": {
   "display_name": "Python 3",
   "language": "python",
   "name": "python3"
  },
  "language_info": {
   "codemirror_mode": {
    "name": "ipython",
    "version": 2
   },
   "file_extension": ".py",
   "mimetype": "text/x-python",
   "name": "python",
   "nbconvert_exporter": "python",
   "pygments_lexer": "ipython2",
   "version": "2.7.6"
  }
 },
 "nbformat": 4,
 "nbformat_minor": 0
}